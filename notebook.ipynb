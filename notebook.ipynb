{
 "cells": [
  {
   "cell_type": "markdown",
   "metadata": {},
   "source": [
    "# Import Libraries"
   ]
  },
  {
   "cell_type": "code",
   "execution_count": 1,
   "metadata": {},
   "outputs": [
    {
     "name": "stdout",
     "output_type": "stream",
     "text": [
      "D:\\zzCoursera proj\\Neural network visualizer webapp\n"
     ]
    }
   ],
   "source": [
    "cd D:\\zzCoursera proj\\Neural network visualizer webapp"
   ]
  },
  {
   "cell_type": "code",
   "execution_count": 2,
   "metadata": {},
   "outputs": [],
   "source": [
    "%matplotlib inline\n",
    "\n",
    "import tensorflow as tf\n",
    "import numpy as np\n",
    "import matplotlib.pyplot as plt"
   ]
  },
  {
   "cell_type": "markdown",
   "metadata": {},
   "source": [
    "# Download Data"
   ]
  },
  {
   "cell_type": "code",
   "execution_count": 4,
   "metadata": {},
   "outputs": [],
   "source": [
    "(x_train,y_train) , (x_test,y_test) = tf.keras.datasets.mnist.load_data()"
   ]
  },
  {
   "cell_type": "markdown",
   "metadata": {},
   "source": [
    "# Plot Examples"
   ]
  },
  {
   "cell_type": "code",
   "execution_count": 5,
   "metadata": {},
   "outputs": [
    {
     "data": {
      "image/png": "[encoded data removed]",
      "text/plain": [
       "<Figure size 720x720 with 16 Axes>"
      ]
     },
     "metadata": {},
     "output_type": "display_data"
    }
   ],
   "source": [
    "plt.figure(figsize=(10,10))\n",
    "\n",
    "for i in range(0,16):\n",
    "    plt.subplot(4,4,i+1)\n",
    "    plt.imshow(x_train[i],cmap='binary')\n",
    "    plt.xlabel(str(y_train[i]))\n",
    "    plt.xticks([])\n",
    "    plt.yticks([])\n",
    "plt.show()"
   ]
  },
  {
   "cell_type": "markdown",
   "metadata": {},
   "source": [
    "# Normalize Data"
   ]
  },
  {
   "cell_type": "code",
   "execution_count": 6,
   "metadata": {},
   "outputs": [
    {
     "data": {
      "text/plain": [
       "(60000, 28, 28)"
      ]
     },
     "execution_count": 6,
     "metadata": {},
     "output_type": "execute_result"
    }
   ],
   "source": [
    "x_train.shape"
   ]
  },
  {
   "cell_type": "code",
   "execution_count": 7,
   "metadata": {},
   "outputs": [
    {
     "data": {
      "text/plain": [
       "(10000, 28, 28)"
      ]
     },
     "execution_count": 7,
     "metadata": {},
     "output_type": "execute_result"
    }
   ],
   "source": [
    "x_test.shape"
   ]
  },
  {
   "cell_type": "code",
   "execution_count": 8,
   "metadata": {},
   "outputs": [],
   "source": [
    "x_train = np.reshape(x_train , (60000,28*28))\n",
    "x_test = np.reshape(x_test , (10000,28*28))"
   ]
  },
  {
   "cell_type": "code",
   "execution_count": 10,
   "metadata": {},
   "outputs": [],
   "source": [
    "x_train = x_train/255.\n",
    "x_test = x_test/255."
   ]
  },
  {
   "cell_type": "code",
   "execution_count": 12,
   "metadata": {},
   "outputs": [
    {
     "data": {
      "text/plain": [
       "(784,)"
      ]
     },
     "execution_count": 12,
     "metadata": {},
     "output_type": "execute_result"
    }
   ],
   "source": [
    "x_train[0].shape"
   ]
  },
  {
   "cell_type": "markdown",
   "metadata": {},
   "source": [
    "# Create a Neural Network Model"
   ]
  },
  {
   "cell_type": "code",
   "execution_count": 13,
   "metadata": {},
   "outputs": [],
   "source": [
    "model = tf.keras.models.Sequential([\n",
    "    tf.keras.layers.Dense(32,activation = 'sigmoid', input_shape = (784,)),\n",
    "    tf.keras.layers.Dense(32,activation = 'sigmoid'),\n",
    "    tf.keras.layers.Dense(10,activation = 'softmax')                    \n",
    "                          \n",
    "])\n",
    "\n",
    "model.compile(\n",
    "loss = 'sparse_categorical_crossentropy',\n",
    "optimizer = 'adam',\n",
    "    metrics = ['accuracy']\n",
    ")"
   ]
  },
  {
   "cell_type": "markdown",
   "metadata": {},
   "source": [
    "# Train the Model"
   ]
  },
  {
   "cell_type": "code",
   "execution_count": 14,
   "metadata": {},
   "outputs": [
    {
     "name": "stdout",
     "output_type": "stream",
     "text": [
      "Train on 60000 samples, validate on 10000 samples\n",
      "Epoch 1/20\n",
      "60000/60000 - 1s - loss: 2.3994 - accuracy: 0.1062 - val_loss: 2.2310 - val_accuracy: 0.1395\n",
      "Epoch 2/20\n",
      "60000/60000 - 1s - loss: 2.1488 - accuracy: 0.3137 - val_loss: 2.0543 - val_accuracy: 0.4346\n",
      "Epoch 3/20\n",
      "60000/60000 - 1s - loss: 1.9762 - accuracy: 0.5249 - val_loss: 1.8796 - val_accuracy: 0.6118\n",
      "Epoch 4/20\n",
      "60000/60000 - 1s - loss: 1.7935 - accuracy: 0.6330 - val_loss: 1.6874 - val_accuracy: 0.6746\n",
      "Epoch 5/20\n",
      "60000/60000 - 1s - loss: 1.6016 - accuracy: 0.7001 - val_loss: 1.4969 - val_accuracy: 0.7333\n",
      "Epoch 6/20\n",
      "60000/60000 - 1s - loss: 1.4174 - accuracy: 0.7463 - val_loss: 1.3203 - val_accuracy: 0.7733\n",
      "Epoch 7/20\n",
      "60000/60000 - 1s - loss: 1.2516 - accuracy: 0.7846 - val_loss: 1.1657 - val_accuracy: 0.8041\n",
      "Epoch 8/20\n",
      "60000/60000 - 1s - loss: 1.1079 - accuracy: 0.8098 - val_loss: 1.0332 - val_accuracy: 0.8270\n",
      "Epoch 9/20\n",
      "60000/60000 - 1s - loss: 0.9857 - accuracy: 0.8283 - val_loss: 0.9212 - val_accuracy: 0.8431\n",
      "Epoch 10/20\n",
      "60000/60000 - 1s - loss: 0.8819 - accuracy: 0.8443 - val_loss: 0.8266 - val_accuracy: 0.8574\n",
      "Epoch 11/20\n",
      "60000/60000 - 1s - loss: 0.7938 - accuracy: 0.8573 - val_loss: 0.7458 - val_accuracy: 0.8696\n",
      "Epoch 12/20\n",
      "60000/60000 - 1s - loss: 0.7187 - accuracy: 0.8681 - val_loss: 0.6772 - val_accuracy: 0.8812\n",
      "Epoch 13/20\n",
      "60000/60000 - 1s - loss: 0.6547 - accuracy: 0.8770 - val_loss: 0.6186 - val_accuracy: 0.8858\n",
      "Epoch 14/20\n",
      "60000/60000 - 1s - loss: 0.6001 - accuracy: 0.8841 - val_loss: 0.5688 - val_accuracy: 0.8910\n",
      "Epoch 15/20\n",
      "60000/60000 - 1s - loss: 0.5534 - accuracy: 0.8899 - val_loss: 0.5263 - val_accuracy: 0.8954\n",
      "Epoch 16/20\n",
      "60000/60000 - 1s - loss: 0.5133 - accuracy: 0.8948 - val_loss: 0.4899 - val_accuracy: 0.9001\n",
      "Epoch 17/20\n",
      "60000/60000 - 1s - loss: 0.4790 - accuracy: 0.8989 - val_loss: 0.4594 - val_accuracy: 0.9030\n",
      "Epoch 18/20\n",
      "60000/60000 - 1s - loss: 0.4499 - accuracy: 0.9032 - val_loss: 0.4329 - val_accuracy: 0.9056\n",
      "Epoch 19/20\n",
      "60000/60000 - 1s - loss: 0.4244 - accuracy: 0.9065 - val_loss: 0.4093 - val_accuracy: 0.9092\n",
      "Epoch 20/20\n",
      "60000/60000 - 1s - loss: 0.4024 - accuracy: 0.9091 - val_loss: 0.3902 - val_accuracy: 0.9118\n"
     ]
    }
   ],
   "source": [
    "_ = model.fit(\n",
    "\n",
    "x_train , y_train,\n",
    "    validation_data = (x_test , y_test),\n",
    "    epochs = 20 , batch_size = 2048,\n",
    "    verbose =2 \n",
    "\n",
    ")"
   ]
  },
  {
   "cell_type": "markdown",
   "metadata": {},
   "source": [
    "# Save the Model"
   ]
  },
  {
   "cell_type": "code",
   "execution_count": 15,
   "metadata": {},
   "outputs": [],
   "source": [
    "model.save('model.h5')"
   ]
  },
  {
   "cell_type": "markdown",
   "metadata": {},
   "source": [
    "# ML Server"
   ]
  },
  {
   "cell_type": "code",
   "execution_count": 35,
   "metadata": {},
   "outputs": [
    {
     "name": "stdout",
     "output_type": "stream",
     "text": [
      "Overwriting ml_server.py\n"
     ]
    }
   ],
   "source": [
    "%%writefile ml_server.py\n",
    "\n",
    "import json\n",
    "import tensorflow as tf\n",
    "import numpy as np\n",
    "import random \n",
    "\n",
    "from flask import Flask ,request\n",
    "\n",
    "app = Flask(__name__)\n",
    "\n",
    "model = tf.keras.models.load_model('model.h5')\n",
    "feature_model = tf.keras.models.Model(\n",
    "\n",
    "    model.inputs,\n",
    "    [layer.output for layer in model.layers]\n",
    "\n",
    ")\n",
    "\n",
    "_,(x_test,_) = tf.keras.datasets.mnist.load_data()\n",
    "x_test = x_test /255.\n",
    "\n",
    "def get_prediction():\n",
    "    index = np.random.choice(x_test.shape[0])\n",
    "    image = x_test[index,:,:]\n",
    "    image_arr = np.reshape(image,(1,784))\n",
    "    return feature_model.predict(image_arr),image\n",
    "\n",
    "@app.route('/' , methods =['GET','POST'])\n",
    "def index():\n",
    "    if request.method =='POST':\n",
    "        preds , image = get_prediction()\n",
    "        final_preds = [p.tolist() for p in preds]\n",
    "        return json.dumps({\n",
    "            'prediction' :final_preds,\n",
    "            'image': image.tolist()\n",
    "        })\n",
    "    return 'Welcome to model server!'\n",
    "if __name__ == '__main__':\n",
    "    app.run()"
   ]
  },
  {
   "cell_type": "markdown",
   "metadata": {},
   "source": [
    "# Streamlit Web App"
   ]
  },
  {
   "cell_type": "code",
   "execution_count": 39,
   "metadata": {},
   "outputs": [
    {
     "name": "stdout",
     "output_type": "stream",
     "text": [
      "Overwriting app.py\n"
     ]
    }
   ],
   "source": [
    "%%writefile app.py\n",
    "\n",
    "import streamlit as st\n",
    "import json\n",
    "import requests\n",
    "import matplotlib.pyplot as plt\n",
    "import numpy as np\n",
    "\n",
    "URL ='http://127.0.0.1:5000/'\n",
    "\n",
    "st.title('Neural Network Visualizer')\n",
    "st.sidebar.markdown('## Input Image')\n",
    "\n",
    "if st.button('Get random prediction'):\n",
    "    response = requests.post(URL , data ={})\n",
    "    response = json.loads(response.text)\n",
    "    preds = response.get('prediction')\n",
    "    image = response.get('image')\n",
    "    image = np.reshape(image,(28,28))\n",
    "    \n",
    "    st.sidebar.image(image , width = 150)\n",
    "    \n",
    "    for layer ,p in enumerate(preds):\n",
    "        numbers = np.squeeze(np.array(p))\n",
    "        plt.figure(figsize =(32,4))\n",
    "        \n",
    "        if layer == 2:\n",
    "            row = 1\n",
    "            col = 10\n",
    "        else:\n",
    "            row = 2 \n",
    "            col = 16\n",
    "            \n",
    "        for i,number in enumerate(numbers):\n",
    "            plt.subplot(row,col,i+1)\n",
    "            plt.imshow(number * np.ones((8,8,3)).astype('float32'))\n",
    "            plt.xticks([])\n",
    "            plt.yticks([])\n",
    "            \n",
    "            if layer == 2:\n",
    "                plt.xlabel(str(i) , fontsize=40)\n",
    "        \n",
    "        plt.subplots_adjust(wspace=0.05 ,hspace=0.05)\n",
    "        plt.tight_layout()\n",
    "        st.text('Layer {}'.format(i+1))\n",
    "        st.pyplot()"
   ]
  },
  {
   "cell_type": "code",
   "execution_count": null,
   "metadata": {},
   "outputs": [],
   "source": []
  }
 ],
 "metadata": {
  "kernelspec": {
   "display_name": "Python 3",
   "language": "python",
   "name": "python3"
  },
  "language_info": {
   "codemirror_mode": {
    "name": "ipython",
    "version": 3
   },
   "file_extension": ".py",
   "mimetype": "text/x-python",
   "name": "python",
   "nbconvert_exporter": "python",
   "pygments_lexer": "ipython3",
   "version": "3.7.7"
  }
 },
 "nbformat": 4,
 "nbformat_minor": 4
}
